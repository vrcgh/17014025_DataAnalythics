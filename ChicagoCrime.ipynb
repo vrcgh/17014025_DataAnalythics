{
  "nbformat": 4,
  "nbformat_minor": 0,
  "metadata": {
    "colab": {
      "name": "Untitled0.ipynb",
      "provenance": [],
      "authorship_tag": "ABX9TyPDnvplgfQn/De5MLGszouj",
      "include_colab_link": true
    },
    "kernelspec": {
      "name": "ir",
      "display_name": "R"
    },
    "language_info": {
      "name": "R"
    }
  },
  "cells": [
    {
      "cell_type": "markdown",
      "metadata": {
        "id": "view-in-github",
        "colab_type": "text"
      },
      "source": [
        "<a href=\"https://colab.research.google.com/github/vrcgh/17014025_DataAnalythics/blob/main/ChicagoCrime.ipynb\" target=\"_parent\"><img src=\"https://colab.research.google.com/assets/colab-badge.svg\" alt=\"Open In Colab\"/></a>"
      ]
    },
    {
      "cell_type": "markdown",
      "metadata": {
        "id": "YbKX8p7z-SmK"
      },
      "source": [
        "Import data. The dataset is for years 2014 - 2019 and contains detailed crime and weather data"
      ]
    },
    {
      "cell_type": "code",
      "metadata": {
        "id": "_qpP9QtL-Q04"
      },
      "source": [
        "crime <- read.csv(\"https://raw.githubusercontent.com/vrcgh/17014025_DataAnalythics/main/crime_weather.csv\", stringsAsFactors = TRUE)"
      ],
      "execution_count": 1,
      "outputs": []
    }
  ]
}